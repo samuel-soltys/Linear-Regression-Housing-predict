{
 "cells": [
  {
   "cell_type": "code",
   "execution_count": 7,
   "metadata": {},
   "outputs": [],
   "source": [
    "import matplotlib.pyplot as plt\n",
    "import numpy as np"
   ]
  },
  {
   "cell_type": "code",
   "execution_count": 8,
   "metadata": {},
   "outputs": [],
   "source": [
    "def linear_function(x, w, b):\n",
    "    return w * x + b\n",
    "\n",
    "def squared_error_csost_function(x, y, w, b):\n",
    "    sum = 0\n",
    "    for i in range(0, len(x)):\n",
    "        sum += ((linear_function(x[i], w, b) - y[i]) ** 2)\n",
    "    \n",
    "    return 0.5 * sum\n",
    "\n",
    "def derivative_w(x, y, w, b):\n",
    "\n",
    "    sum = 0\n",
    "    for i in range(0, len(x)):\n",
    "        sum += (linear_function(x[i], w, b) - y[i]) * x[i]\n",
    "    \n",
    "    return sum\n",
    "\n",
    "def derivative_b(x, y, w, b):\n",
    "    sum = 0\n",
    "    for i in range(0, len(x)):\n",
    "        sum += linear_function(x[i], w, b) - y[i]\n",
    "    \n",
    "    return sum\n",
    "\n",
    "def gradient_descent(x, y, w, b, learning_rate):\n",
    "    tmp_w = w - learning_rate * derivative_w(x, y, w, b)\n",
    "    tmp_b = b - learning_rate * derivative_b(x, y, w, b)\n",
    "    w = tmp_w\n",
    "    b = tmp_b\n",
    "    return w, b"
   ]
  },
  {
   "cell_type": "code",
   "execution_count": 9,
   "metadata": {},
   "outputs": [],
   "source": [
    "# training data\n",
    "x = [94, 211, 154, 150, 226, 150, 120, 92, 500]\n",
    "y = [660000, 890000, 648000, 535000, 300000, 569000, 780000, 399990, 870000]\n",
    "\n",
    "x_np = np.array(x)\n",
    "# initialize parameters\n",
    "w = 0\n",
    "b = 0\n",
    "\n",
    "# learning rate 0.003 optimal\n",
    "learning_rate = 0.000003\n",
    "\n",
    "# number of iterations\n",
    "n_iterations = 50"
   ]
  },
  {
   "cell_type": "code",
   "execution_count": 10,
   "metadata": {},
   "outputs": [
    {
     "data": {
      "image/png": "[encoded data removed]",
      "text/plain": [
       "<Figure size 432x288 with 1 Axes>"
      ]
     },
     "metadata": {
      "needs_background": "light"
     },
     "output_type": "display_data"
    },
    {
     "name": "stdout",
     "output_type": "stream",
     "text": [
      "w:  2574.102001708416\n",
      "b:  202.12222527417399\n"
     ]
    }
   ],
   "source": [
    "# gradient descent\n",
    "for i in range(n_iterations):\n",
    "    \n",
    "    cost = squared_error_cost_function(x, y, w, b)\n",
    "    plt.plot(i, cost, 'o')\n",
    "\n",
    "    # test = np.dot(x, w) + b\n",
    "    # plt.plot(range(0, 9), test)\n",
    "    \n",
    "    w, b = gradient_descent(x, y, w, b, learning_rate)\n",
    "\n",
    "# print parameters\n",
    "# plt.plot(n_iterations, cost, 'o')\n",
    "plt.show()\n",
    "print(\"w: \", w)\n",
    "print(\"b: \", b)"
   ]
  },
  {
   "cell_type": "code",
   "execution_count": 11,
   "metadata": {},
   "outputs": [
    {
     "data": {
      "image/png": "[encoded data removed]",
      "text/plain": [
       "<Figure size 432x288 with 1 Axes>"
      ]
     },
     "metadata": {
      "needs_background": "light"
     },
     "output_type": "display_data"
    }
   ],
   "source": [
    "# plot data\n",
    "plt.plot(x, y, 'o')\n",
    "plt.plot(x, np.dot(x, w) + b)\n",
    "plt.show()"
   ]
  }
 ],
 "metadata": {
  "kernelspec": {
   "display_name": "Python 3.9.7 ('base')",
   "language": "python",
   "name": "python3"
  },
  "language_info": {
   "codemirror_mode": {
    "name": "ipython",
    "version": 3
   },
   "file_extension": ".py",
   "mimetype": "text/x-python",
   "name": "python",
   "nbconvert_exporter": "python",
   "pygments_lexer": "ipython3",
   "version": "3.9.7"
  },
  "orig_nbformat": 4,
  "vscode": {
   "interpreter": {
    "hash": "c11202d2846b22eec7deaf37ea813ba92a5f75b5344a4d16688175855af7948e"
   }
  }
 },
 "nbformat": 4,
 "nbformat_minor": 2
}
